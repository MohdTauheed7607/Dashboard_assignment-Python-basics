{
 "cells": [
  {
   "attachments": {},
   "cell_type": "markdown",
   "metadata": {},
   "source": [
    "1.What are the two values of the Boolean data type? How do you write them?\n",
    "\n",
    "Sol:\n",
    "\n",
    "The two values of boolean data type are:\n",
    "1. 'True' - when the condition is true.\n",
    "2. 'False' - when the condition is false."
   ]
  },
  {
   "attachments": {},
   "cell_type": "markdown",
   "metadata": {},
   "source": [
    "2. What are the three different types of Boolean operators?\n",
    "\n",
    "Sol:\n",
    "\n",
    "Three different types of boolean operators are:\n",
    "1. and \n",
    "2. or \n",
    "3. not"
   ]
  },
  {
   "attachments": {},
   "cell_type": "markdown",
   "metadata": {},
   "source": [
    "3. Make a list of each Boolean operator's truth tables (i.e. every possible combination of Boolean values for the operator and what it evaluate ).\n",
    "\n",
    "Sol:\n",
    "\n",
    "1. True and True = True\n",
    "2. False and False = False\n",
    "3. True and False = False\n",
    "4. False and True = False\n",
    "5. True or True  = True\n",
    "6. False or False = False\n",
    "7. True or False  = True\n",
    "8. False or True  = True\n",
    "9. not True and not False = False\n",
    "10. not False and not True = False\n",
    "11. not True or not False = True\n",
    "12. not False or not True = True"
   ]
  },
  {
   "attachments": {},
   "cell_type": "markdown",
   "metadata": {},
   "source": [
    "4. What are the values of the following expressions?\n",
    "\n",
    "Sol:\n",
    "\n",
    "1. (5 > 4) and (3 == 5) ----> False\n",
    "2. not (5 > 4) ----> False\n",
    "3. (5 > 4) or (3 == 5) ----> True\n",
    "4. not ((5 > 4) or (3 == 5)) ----> False\n",
    "5. (True and True) and (True == False) ----> False\n",
    "6. (not False) or (not True) ----> True"
   ]
  },
  {
   "attachments": {},
   "cell_type": "markdown",
   "metadata": {},
   "source": [
    "5. What are the six comparison operators?\n",
    "\n",
    "Sol:\n",
    "\n",
    "1. Greater than\n",
    "2. Less than\n",
    "3. Greater than equal to\n",
    "4. Less than equal to\n",
    "5. equal to\n",
    "6. not equal to"
   ]
  },
  {
   "cell_type": "code",
   "execution_count": null,
   "metadata": {},
   "outputs": [],
   "source": [
    "# 7. Identify the three blocks in this code:\n",
    "\n",
    "spam=0\n",
    "if spam==0:\n",
    "    if spam==10:\n",
    "        print('eggs')\n",
    "    else:\n",
    "        print('ham')\n",
    "\n",
    "    if spam>5:\n",
    "        print('bacon')\n",
    "    else:\n",
    "        print('spam')\n",
    "else:\n",
    "    print('spam')"
   ]
  },
  {
   "cell_type": "code",
   "execution_count": null,
   "metadata": {},
   "outputs": [],
   "source": [
    "# 8. Write code that prints Hello if 1 is stored in spam, prints Howdy if 2 is stored in spam, and prints\n",
    "# Greetings! if anything else is stored in spam.\n",
    "\n",
    "spam=int(input(\"Enter the value of spam\"))\n",
    "\n",
    "if spam==1:\n",
    "    print('Hello')\n",
    "elif spam==2:\n",
    "    print('Howdy')\n",
    "else:\n",
    "    print('Greetings')"
   ]
  },
  {
   "attachments": {},
   "cell_type": "markdown",
   "metadata": {},
   "source": [
    "9.If your programme is stuck in an endless loop, what keys you’ll press?\n",
    "\n",
    "Sol: Ctrl+C"
   ]
  },
  {
   "attachments": {},
   "cell_type": "markdown",
   "metadata": {},
   "source": [
    "10. How can you tell the difference between break and continue?\n",
    "\n",
    "Sol:\n",
    "\n",
    "By using 'break' we can come out of the loop whereas 'continue' will escape the particular iteration and will not return anything and will go in the next iteration."
   ]
  },
  {
   "attachments": {},
   "cell_type": "markdown",
   "metadata": {},
   "source": [
    "11. In a for loop, what is the difference between range(10), range(0, 10), and range(0, 10, 1)?\n",
    "\n",
    "Sol: There is no difference between all these three. All will print the whole number starting from 0 till 9."
   ]
  },
  {
   "cell_type": "code",
   "execution_count": 39,
   "metadata": {},
   "outputs": [
    {
     "name": "stdout",
     "output_type": "stream",
     "text": [
      "1  2  3  4  5  6  7  8  9  10  \n",
      "\n",
      "1  2  3  4  5  6  7  8  9  10  "
     ]
    }
   ],
   "source": [
    "# 12. Write a short program that prints the numbers 1 to 10 using a for loop. Then write an equivalent\n",
    "# program that prints the numbers 1 to 10 using a while loop.\n",
    "\n",
    "\n",
    "# Using for loop\n",
    "\n",
    "for i in range(1,11):\n",
    "    print(i,end='  ')\n",
    "\n",
    "\n",
    "print('\\n')\n",
    "\n",
    "# Using while loop\n",
    "\n",
    "i=1\n",
    "while i<11:\n",
    "    print(i, end='  ')\n",
    "    i+=1"
   ]
  },
  {
   "attachments": {},
   "cell_type": "markdown",
   "metadata": {},
   "source": [
    "13. If you had a function named bacon() inside a module named spam, how would you call it after importing spam?\n",
    "\n",
    "Sol:  spam.bacon()"
   ]
  }
 ],
 "metadata": {
  "kernelspec": {
   "display_name": "Python 3",
   "language": "python",
   "name": "python3"
  },
  "language_info": {
   "codemirror_mode": {
    "name": "ipython",
    "version": 3
   },
   "file_extension": ".py",
   "mimetype": "text/x-python",
   "name": "python",
   "nbconvert_exporter": "python",
   "pygments_lexer": "ipython3",
   "version": "3.9.13"
  },
  "orig_nbformat": 4,
  "vscode": {
   "interpreter": {
    "hash": "8f8cf99212f81ad0c4765861267244807ee1c18364846cdce387b28994a977ba"
   }
  }
 },
 "nbformat": 4,
 "nbformat_minor": 2
}
