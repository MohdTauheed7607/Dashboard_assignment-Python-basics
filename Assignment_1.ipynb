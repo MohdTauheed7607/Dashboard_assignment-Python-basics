{
 "cells": [
  {
   "attachments": {},
   "cell_type": "markdown",
   "metadata": {},
   "source": [
    "## Sol 1\n",
    "#### Values: 'hello', -87.8, 6\n",
    "#### Expression: *, -, /, +"
   ]
  },
  {
   "attachments": {},
   "cell_type": "markdown",
   "metadata": {},
   "source": [
    "## Sol 2\n",
    "#### String can be anything which is enclosed in single, double or tripple quotes whereas variables are the names which can store any datatype."
   ]
  },
  {
   "attachments": {},
   "cell_type": "markdown",
   "metadata": {},
   "source": [
    "## Sol 3\n",
    "#### Int: Any whole number whether it is -ve or +ve is knowns as interger in python.\n",
    "#### float: Any decimal number whether it is -ve or +ve is knowns as float in python.\n",
    "#### str: Anything enclosed in single, double or tripple quotes is called as string in python."
   ]
  },
  {
   "attachments": {},
   "cell_type": "markdown",
   "metadata": {},
   "source": [
    "## Sol 6\n",
    "Variable bacon will contain 22\n"
   ]
  },
  {
   "attachments": {},
   "cell_type": "markdown",
   "metadata": {},
   "source": [
    "## Sol 7\n",
    "values of both the terms will be same that is 'spamspamspam'"
   ]
  },
  {
   "attachments": {},
   "cell_type": "markdown",
   "metadata": {},
   "source": [
    "## Sol 8\n",
    "Because there is some protocol to create a variable in python. we cannot create a variable starting with any int and\n",
    "it cannot be integer totally that is why egg is a valid variable and 100 is not."
   ]
  },
  {
   "attachments": {},
   "cell_type": "markdown",
   "metadata": {},
   "source": [
    "## Sol 9\n",
    "#### Function to get the integer: int\n",
    "#### Function to get the floating point number: float\n",
    "#### Function to get the string: str\n"
   ]
  },
  {
   "attachments": {},
   "cell_type": "markdown",
   "metadata": {},
   "source": [
    "## Sol 10\n",
    "#### Because in this expression we are trying to concatenate string with an int. We can make 99 as a string to fix it\n",
    "#### 'I have eaten' + '99' + 'burritos'"
   ]
  }
 ],
 "metadata": {
  "kernelspec": {
   "display_name": "Python 3",
   "language": "python",
   "name": "python3"
  },
  "language_info": {
   "codemirror_mode": {
    "name": "ipython",
    "version": 3
   },
   "file_extension": ".py",
   "mimetype": "text/x-python",
   "name": "python",
   "nbconvert_exporter": "python",
   "pygments_lexer": "ipython3",
   "version": "3.9.13"
  },
  "orig_nbformat": 4,
  "vscode": {
   "interpreter": {
    "hash": "8f8cf99212f81ad0c4765861267244807ee1c18364846cdce387b28994a977ba"
   }
  }
 },
 "nbformat": 4,
 "nbformat_minor": 2
}
